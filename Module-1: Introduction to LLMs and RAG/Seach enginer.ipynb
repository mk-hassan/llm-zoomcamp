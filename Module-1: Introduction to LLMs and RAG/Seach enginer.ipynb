{
 "cells": [
  {
   "cell_type": "code",
   "execution_count": 1,
   "id": "b31272cf-c3b0-4805-9dd3-4f0f1f6d2b1f",
   "metadata": {},
   "outputs": [
    {
     "name": "stdout",
     "output_type": "stream",
     "text": [
      "--2024-06-24 09:59:19--  https://raw.githubusercontent.com/alexeygrigorev/minsearch/main/minsearch.py\n",
      "Resolving raw.githubusercontent.com (raw.githubusercontent.com)... 185.199.108.133, 185.199.109.133, 185.199.110.133, ...\n",
      "Connecting to raw.githubusercontent.com (raw.githubusercontent.com)|185.199.108.133|:443... connected.\n",
      "HTTP request sent, awaiting response... 200 OK\n",
      "Length: 3832 (3.7K) [text/plain]\n",
      "Saving to: ‘minsearch.py’\n",
      "\n",
      "minsearch.py        100%[===================>]   3.74K  --.-KB/s    in 0s      \n",
      "\n",
      "2024-06-24 09:59:19 (12.3 MB/s) - ‘minsearch.py’ saved [3832/3832]\n",
      "\n"
     ]
    }
   ],
   "source": [
    "!wget https://raw.githubusercontent.com/alexeygrigorev/minsearch/main/minsearch.py"
   ]
  },
  {
   "cell_type": "code",
   "execution_count": 3,
   "id": "bbb2dd6a-4872-4a3e-bf89-01d15d1853ca",
   "metadata": {},
   "outputs": [
    {
     "name": "stdout",
     "output_type": "stream",
     "text": [
      "--2024-06-24 10:02:36--  https://raw.githubusercontent.com/DataTalksClub/llm-zoomcamp/main/01-intro/documents.json\n",
      "Resolving raw.githubusercontent.com (raw.githubusercontent.com)... 185.199.109.133, 185.199.111.133, 185.199.108.133, ...\n",
      "Connecting to raw.githubusercontent.com (raw.githubusercontent.com)|185.199.109.133|:443... connected.\n",
      "HTTP request sent, awaiting response... 200 OK\n",
      "Length: 658332 (643K) [text/plain]\n",
      "Saving to: ‘documents.json’\n",
      "\n",
      "documents.json      100%[===================>] 642.90K  --.-KB/s    in 0.01s   \n",
      "\n",
      "2024-06-24 10:02:36 (47.5 MB/s) - ‘documents.json’ saved [658332/658332]\n",
      "\n"
     ]
    }
   ],
   "source": [
    "!wget https://raw.githubusercontent.com/DataTalksClub/llm-zoomcamp/main/01-intro/documents.json"
   ]
  },
  {
   "cell_type": "code",
   "execution_count": 25,
   "id": "192de74c-d42b-43f8-a310-e13a581bd1a7",
   "metadata": {},
   "outputs": [],
   "source": [
    "import json, os\n",
    "from groq import Groq\n",
    "from minsearch import Index"
   ]
  },
  {
   "cell_type": "code",
   "execution_count": 51,
   "id": "d334f80a-21d2-4b19-879f-430f3672b7bb",
   "metadata": {},
   "outputs": [
    {
     "data": {
      "text/plain": [
       "3"
      ]
     },
     "execution_count": 51,
     "metadata": {},
     "output_type": "execute_result"
    }
   ],
   "source": [
    "with open('documents.json', 'rt') as f_in:\n",
    "    courses = json.load(f_in)\n",
    "\n",
    "len(courses)"
   ]
  },
  {
   "cell_type": "code",
   "execution_count": 4,
   "id": "86ce5a91-b2fa-4d69-8877-7c46f761093b",
   "metadata": {},
   "outputs": [
    {
     "data": {
      "text/plain": [
       "948"
      ]
     },
     "execution_count": 4,
     "metadata": {},
     "output_type": "execute_result"
    }
   ],
   "source": [
    "documents = []\n",
    "\n",
    "for course in courses:\n",
    "    for doc in course['documents']:\n",
    "        doc['course'] = course['course']\n",
    "        documents.append(doc)\n",
    "\n",
    "len(documents)"
   ]
  },
  {
   "cell_type": "code",
   "execution_count": 5,
   "id": "f75da5dc-9dcc-4783-a87c-f1093ade9624",
   "metadata": {},
   "outputs": [],
   "source": [
    "engine = Index(\n",
    "    text_fields=['text', 'section', 'question'],\n",
    "    keyword_fields=['course']\n",
    ")"
   ]
  },
  {
   "cell_type": "code",
   "execution_count": 6,
   "id": "73da6331-c7aa-46c2-832c-5b69d4ff0f3d",
   "metadata": {},
   "outputs": [
    {
     "data": {
      "text/plain": [
       "<minsearch.Index at 0x7c6e2d1eada0>"
      ]
     },
     "execution_count": 6,
     "metadata": {},
     "output_type": "execute_result"
    }
   ],
   "source": [
    "engine.fit(documents)"
   ]
  },
  {
   "cell_type": "code",
   "execution_count": 44,
   "id": "15f43a44-d87e-4d07-935f-c6f076b80d06",
   "metadata": {},
   "outputs": [],
   "source": [
    "def search(query):\n",
    "    return engine.search(query, \n",
    "                         filter_dict={\"course\": \"data-engineering-zoomcamp\"}, \n",
    "                         boost_dict = {'question': 3.0, 'section': 0.5})"
   ]
  },
  {
   "cell_type": "code",
   "execution_count": 45,
   "id": "295325b0-1e68-4074-92c1-5f141b8dcf83",
   "metadata": {},
   "outputs": [],
   "source": [
    "def build_prompt(query, search_results):\n",
    "    prompt_template = \"\"\"\n",
    "You're a course teaching assistant. Answer the QUESTION based on the CONTEXT from the FAQ database.\n",
    "Use only the facts from the CONTEXT when answering the QUESTION.\n",
    "\n",
    "QUESTION: {question}\n",
    "\n",
    "CONTEXT: \n",
    "{context}\n",
    "\"\"\".strip()\n",
    "\n",
    "    context = \"\"\n",
    "    \n",
    "    for doc in search_results:\n",
    "        context = context + f\"section: {doc['section']}\\nquestion: {doc['question']}\\nanswer: {doc['text']}\\n\\n\"\n",
    "    \n",
    "    prompt = prompt_template.format(question=query, context=context).strip()\n",
    "    return prompt"
   ]
  },
  {
   "cell_type": "code",
   "execution_count": 73,
   "id": "3a3b9716-395f-4111-9e9c-6402498b2740",
   "metadata": {},
   "outputs": [],
   "source": [
    "def ask_groq(prompt, model=\"mixtral-8x7b-32768\"):\n",
    "    client = Groq(\n",
    "        api_key=os.environ.get(\"GROQ_API_KEY\"),\n",
    "    )\n",
    "    \n",
    "    chat_completion = client.chat.completions.create(\n",
    "        messages=[\n",
    "            {\n",
    "                \"role\": \"user\",\n",
    "                \"content\": prompt,\n",
    "            }\n",
    "        ],\n",
    "        model=model,\n",
    "    )\n",
    "\n",
    "    print(chat_completion.choices[0].message.content)"
   ]
  },
  {
   "cell_type": "code",
   "execution_count": 67,
   "id": "96c967f1-96fe-4375-b246-3d2c284285bd",
   "metadata": {},
   "outputs": [],
   "source": [
    "def ask_llm(q):\n",
    "    docs = search(q)\n",
    "    prompt = build_prompt(q, docs)\n",
    "    return ask_groq(prompt)"
   ]
  },
  {
   "cell_type": "code",
   "execution_count": 68,
   "id": "4c9d185a-3de3-49f4-bc24-01ce87aea406",
   "metadata": {},
   "outputs": [
    {
     "name": "stdout",
     "output_type": "stream",
     "text": [
      "To run Kafka, you'll need to follow specific steps depending on the language you're using. \n",
      "\n",
      "If you're using Java, in the project directory, run:\n",
      "\n",
      "`java -cp build/libs/<jar_name>-1.0-SNAPSHOT.jar:out src/main/java/org/example/JsonProducer.java`\n",
      "\n",
      "If you're using Python, create a virtual environment and install the required packages. To create a virtual environment, run:\n",
      "\n",
      "`python -m venv env`\n",
      "\n",
      "Then, activate it with:\n",
      "\n",
      "`source env/bin/activate`\n",
      "\n",
      "Install the required packages with:\n",
      "\n",
      "`pip install -r ../requirements.txt`\n",
      "\n",
      "Make sure to activate the virtual environment every time you need it.\n"
     ]
    }
   ],
   "source": [
    "ask_llm(\"How do I run kafka?\")"
   ]
  },
  {
   "cell_type": "code",
   "execution_count": 52,
   "id": "b8e48f95-807b-4cb3-89bb-b14ac1f1fded",
   "metadata": {},
   "outputs": [],
   "source": [
    "# elastic search"
   ]
  },
  {
   "cell_type": "code",
   "execution_count": 56,
   "id": "403d77b0-a9a7-409b-b86a-9753e2e0a21a",
   "metadata": {},
   "outputs": [],
   "source": [
    "from tqdm import tqdm\n",
    "from elasticsearch import Elasticsearch"
   ]
  },
  {
   "cell_type": "code",
   "execution_count": 57,
   "id": "ad51388c-0a9f-4d9c-a20a-55c413d6b476",
   "metadata": {},
   "outputs": [],
   "source": [
    "es_client = Elasticsearch('http://localhost:9200') "
   ]
  },
  {
   "cell_type": "code",
   "execution_count": null,
   "id": "fea9690e-c016-4559-82f8-b1f8510ebaa2",
   "metadata": {},
   "outputs": [],
   "source": [
    "index_settings = {\n",
    "    \"settings\": {\n",
    "        \"number_of_shards\": 1,\n",
    "        \"number_of_replicas\": 0\n",
    "    },\n",
    "    \"mappings\": {\n",
    "        \"properties\": {\n",
    "            \"text\": {\"type\": \"text\"},\n",
    "            \"section\": {\"type\": \"text\"},\n",
    "            \"question\": {\"type\": \"text\"},\n",
    "            \"course\": {\"type\": \"keyword\"} \n",
    "        }\n",
    "    }\n",
    "}\n",
    "\n",
    "index_name = \"course-questions\"\n",
    "\n",
    "es_client.indices.create(index=index_name, body=index_settings)"
   ]
  },
  {
   "cell_type": "code",
   "execution_count": 59,
   "id": "3cdccd52-9b11-4ff8-8bf7-6cb13c699c4a",
   "metadata": {},
   "outputs": [
    {
     "name": "stderr",
     "output_type": "stream",
     "text": [
      "100%|████████████████████████████████████████████████████████████████████████████████████████████████████████████████████████████████| 948/948 [00:31<00:00, 30.38it/s]\n"
     ]
    }
   ],
   "source": [
    "for doc in tqdm(documents):\n",
    "    es_client.index(index=index_name, document=doc)"
   ]
  },
  {
   "cell_type": "code",
   "execution_count": 60,
   "id": "f21d28eb-4a05-43ac-accd-4d6621421d6d",
   "metadata": {},
   "outputs": [],
   "source": [
    "def elastic_search(query):\n",
    "    search_query = {\n",
    "        \"size\": 5,\n",
    "        \"query\": {\n",
    "            \"bool\": {\n",
    "                \"must\": {\n",
    "                    \"multi_match\": {\n",
    "                        \"query\": query,\n",
    "                        \"fields\": [\"question^3\", \"text\", \"section\"],\n",
    "                        \"type\": \"best_fields\"\n",
    "                    }\n",
    "                },\n",
    "                \"filter\": {\n",
    "                    \"term\": {\n",
    "                        \"course\": \"data-engineering-zoomcamp\"\n",
    "                    }\n",
    "                }\n",
    "            }\n",
    "        }\n",
    "    }\n",
    "\n",
    "    response = es_client.search(index=index_name, body=search_query)\n",
    "    \n",
    "    result_docs = []\n",
    "    \n",
    "    for hit in response['hits']['hits']:\n",
    "        result_docs.append(hit['_source'])\n",
    "    \n",
    "    return result_docs"
   ]
  },
  {
   "cell_type": "code",
   "execution_count": 69,
   "id": "9d2e8835-9d01-4aac-b8b7-8b6003ce6272",
   "metadata": {},
   "outputs": [],
   "source": [
    "def elastic_ask_llm(q):\n",
    "    docs = elastic_search(q)\n",
    "    prompt = build_prompt(q, docs)\n",
    "    return ask_groq(prompt)"
   ]
  },
  {
   "cell_type": "code",
   "execution_count": 74,
   "id": "76da6b8c-c894-4f99-9029-f9f73f6f9ad3",
   "metadata": {},
   "outputs": [
    {
     "name": "stdout",
     "output_type": "stream",
     "text": [
      "To run Kafka, you need to follow the instructions provided in the \"Module 6: streaming with kafka\" section of the FAQ database. If you're encountering an issue with the \"module 'kafka' not found\" error, you should create a virtual environment and run the requirements.txt and python files in that environment.\n",
      "\n",
      "Here are the steps to create a virtual environment and install the necessary packages:\n",
      "\n",
      "1. Open a terminal and navigate to the project directory.\n",
      "2. Create a virtual environment by running: `python -m venv env`\n",
      "3. Activate the virtual environment with the command: `source env/bin/activate` (on Windows, use: `env\\Scripts\\activate`)\n",
      "4. Install the required packages with: `pip install -r ../requirements.txt`\n",
      "\n",
      "After setting up the virtual environment, you can run the Kafka producer/consumer/kstreams by using the Java commands provided in the FAQ database. For example, to run the producer, navigate to the project directory and execute:\n",
      "\n",
      "```\n",
      "java -cp build/libs/<jar_name>-1.0-SNAPSHOT.jar:out src/main/java/org/example/JsonProducer.java\n",
      "```\n",
      "\n",
      "Remember to replace `<jar_name>` with the actual name of your JAR file.\n",
      "\n",
      "For checking compatibility of local and container Spark versions, use `spark-submit --version` to find the local version. Make sure the SPARK_VERSION in the build.sh file matches your local version, and that the pyspark version installed with pip also matches.\n"
     ]
    }
   ],
   "source": [
    "elastic_ask_llm(\"How do I run kafka?\")"
   ]
  },
  {
   "cell_type": "code",
   "execution_count": null,
   "id": "8ef90080-94c2-4ff5-9001-aa3a140d5a80",
   "metadata": {},
   "outputs": [],
   "source": []
  }
 ],
 "metadata": {
  "kernelspec": {
   "display_name": "Python 3 (ipykernel)",
   "language": "python",
   "name": "python3"
  },
  "language_info": {
   "codemirror_mode": {
    "name": "ipython",
    "version": 3
   },
   "file_extension": ".py",
   "mimetype": "text/x-python",
   "name": "python",
   "nbconvert_exporter": "python",
   "pygments_lexer": "ipython3",
   "version": "3.10.13"
  }
 },
 "nbformat": 4,
 "nbformat_minor": 5
}
