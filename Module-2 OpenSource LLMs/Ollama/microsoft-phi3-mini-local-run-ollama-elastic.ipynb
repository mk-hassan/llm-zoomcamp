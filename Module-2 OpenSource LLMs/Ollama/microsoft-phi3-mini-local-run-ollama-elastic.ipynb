{
 "cells": [
  {
   "cell_type": "code",
   "execution_count": 1,
   "id": "4e440d39",
   "metadata": {
    "scrolled": true
   },
   "outputs": [],
   "source": [
    "import os\n",
    "import requests\n",
    "from tqdm import tqdm\n",
    "from openai import OpenAI\n",
    "from elasticsearch import Elasticsearch"
   ]
  },
  {
   "cell_type": "code",
   "execution_count": 2,
   "id": "18c1da77",
   "metadata": {
    "scrolled": true
   },
   "outputs": [
    {
     "data": {
      "text/plain": [
       "948"
      ]
     },
     "execution_count": 2,
     "metadata": {},
     "output_type": "execute_result"
    }
   ],
   "source": [
    "docs_url = 'https://github.com/DataTalksClub/llm-zoomcamp/blob/main/01-intro/documents.json?raw=1'\n",
    "docs_response = requests.get(docs_url)\n",
    "documents_raw = docs_response.json()\n",
    "\n",
    "documents = []\n",
    "\n",
    "for course in documents_raw:\n",
    "    course_name = course['course']\n",
    "\n",
    "    for doc in course['documents']:\n",
    "        doc['course'] = course_name\n",
    "        documents.append(doc)\n",
    "len(documents)"
   ]
  },
  {
   "cell_type": "code",
   "execution_count": 3,
   "id": "a7b54c8b",
   "metadata": {},
   "outputs": [],
   "source": [
    "es_client = Elasticsearch('http://localhost:9200')"
   ]
  },
  {
   "cell_type": "code",
   "execution_count": 4,
   "id": "eb257219",
   "metadata": {},
   "outputs": [
    {
     "data": {
      "text/plain": [
       "ObjectApiResponse({'error': {'root_cause': [{'type': 'index_not_found_exception', 'reason': 'no such index [course-questions]', 'resource.type': 'index_or_alias', 'resource.id': 'course-questions', 'index_uuid': '_na_', 'index': 'course-questions'}], 'type': 'index_not_found_exception', 'reason': 'no such index [course-questions]', 'resource.type': 'index_or_alias', 'resource.id': 'course-questions', 'index_uuid': '_na_', 'index': 'course-questions'}, 'status': 404})"
      ]
     },
     "execution_count": 4,
     "metadata": {},
     "output_type": "execute_result"
    }
   ],
   "source": [
    "es_client.options(ignore_status=[400,404]).indices.delete(index='course-questions')"
   ]
  },
  {
   "cell_type": "code",
   "execution_count": 6,
   "id": "c7db09ce",
   "metadata": {},
   "outputs": [
    {
     "data": {
      "text/plain": [
       "ObjectApiResponse({'acknowledged': True, 'shards_acknowledged': True, 'index': 'course-questions'})"
      ]
     },
     "execution_count": 6,
     "metadata": {},
     "output_type": "execute_result"
    }
   ],
   "source": [
    "index_settings = {\n",
    "    \"settings\": {\n",
    "        \"number_of_shards\": 1,\n",
    "        \"number_of_replicas\": 0\n",
    "    },\n",
    "    \"mappings\": {\n",
    "        \"properties\": {\n",
    "            \"text\": {\"type\": \"text\"},\n",
    "            \"section\": {\"type\": \"text\"},\n",
    "            \"question\": {\"type\": \"text\"},\n",
    "            \"course\": {\"type\": \"keyword\"} # primary key in RDBMS taste\n",
    "        }\n",
    "    }\n",
    "}\n",
    "\n",
    "index_name = \"course-questions\"\n",
    "\n",
    "es_client.indices.create(index=index_name, body=index_settings)"
   ]
  },
  {
   "cell_type": "code",
   "execution_count": 9,
   "id": "473ff9e1",
   "metadata": {},
   "outputs": [
    {
     "name": "stderr",
     "output_type": "stream",
     "text": [
      "  0%|          | 0/948 [00:00<?, ?it/s]"
     ]
    },
    {
     "name": "stderr",
     "output_type": "stream",
     "text": [
      "100%|██████████| 948/948 [00:34<00:00, 27.60it/s]\n"
     ]
    }
   ],
   "source": [
    "for doc in tqdm(documents):\n",
    "    es_client.index(index=index_name, document=doc)"
   ]
  },
  {
   "cell_type": "code",
   "execution_count": 54,
   "id": "47f2bed8",
   "metadata": {
    "scrolled": true
   },
   "outputs": [],
   "source": [
    "def search(query, size=5, search_words=[]):\n",
    "    def filter_builder():\n",
    "        return list(map(lambda word: {\"term\": {**word}}, search_words))\n",
    "        \n",
    "    search_query = {\n",
    "        \"size\": size,\n",
    "        \"query\": {\n",
    "            \"bool\": {\n",
    "                \"must\": {\n",
    "                    \"multi_match\": {\n",
    "                        \"query\": query,\n",
    "                        \"fields\": [\"question^4\", \"text\"],\n",
    "                        \"type\": \"best_fields\"\n",
    "                    }\n",
    "                },\n",
    "                \"filter\": filter_builder()\n",
    "            }\n",
    "        }\n",
    "    }\n",
    "\n",
    "    return es_client.search(index=index_name, body=search_query)"
   ]
  },
  {
   "cell_type": "code",
   "execution_count": 60,
   "id": "6b3cf4dd",
   "metadata": {
    "scrolled": true
   },
   "outputs": [],
   "source": [
    "def build_prompt(query, search_results):\n",
    "    prompt_template = \"\"\"\n",
    "You're a course teaching assistant. Answer the QUESTION based on the CONTEXT from the FAQ database.\n",
    "Use only the facts from the CONTEXT when answering the QUESTION.\n",
    "\n",
    "QUESTION: {question}\n",
    "\n",
    "CONTEXT:\n",
    "{context}\n",
    "\"\"\".strip()\n",
    "\n",
    "    context_template = \"\"\"\n",
    "    Q: {question}\n",
    "    A: {text}\n",
    "    \"\"\".strip()\n",
    "\n",
    "    context = \"\"\n",
    "    \n",
    "    for doc in search_results['hits']['hits']:\n",
    "        context += context_template.format(question=doc[\"_source\"][\"question\"], text=doc[\"_source\"][\"text\"]) + \"\\n\\n\"\n",
    "    \n",
    "    prompt = prompt_template.format(question=query, context=context).strip()\n",
    "    return prompt"
   ]
  },
  {
   "cell_type": "code",
   "execution_count": 23,
   "id": "638e9b2a",
   "metadata": {},
   "outputs": [],
   "source": [
    "from openai import OpenAI\n",
    "\n",
    "client = OpenAI(\n",
    "    base_url='http://localhost:11434/v1/',\n",
    "    api_key='ollama',\n",
    ")"
   ]
  },
  {
   "cell_type": "code",
   "execution_count": 66,
   "id": "43cae798",
   "metadata": {
    "scrolled": true
   },
   "outputs": [],
   "source": [
    "def llm(prompt):\n",
    "    response = client.chat.completions.create(\n",
    "        model='phi3',\n",
    "        messages=[{\"role\": \"user\", \"content\": prompt}]\n",
    "    )\n",
    "    \n",
    "    return response.choices[0].message.content"
   ]
  },
  {
   "cell_type": "code",
   "execution_count": 67,
   "id": "8e5f7235",
   "metadata": {
    "scrolled": true
   },
   "outputs": [],
   "source": [
    "def rag(query):\n",
    "    search_results = search(query)\n",
    "    prompt = build_prompt(query, search_results)\n",
    "    answer = llm(prompt)\n",
    "    return answer"
   ]
  },
  {
   "cell_type": "code",
   "execution_count": 68,
   "id": "3535d45d",
   "metadata": {
    "scrolled": true
   },
   "outputs": [
    {
     "data": {
      "text/plain": [
       "' As a course teaching assistant, I\\'d like to clarify that even though it seems most courses are not taking new students after they start and we recommend registering as soon as possible, there is flexibility in enrolling at the end of November for this particular course. If you decide to join nearer to or right until the final deadlines while focusing on completing two projects out of three required ones before submitting your assignments, it will still be eligible for a certificate upon completion as per our FAQ guidelines (http://mlzoomcamp.com/).\\n\\nTo access course materials and get started: Go to the course page at http://mlzoomcamp.com/, scroll down from where you landed on top of recent activities, start going through available material there including cohort-specific content which can be found in our folders for respective years under \"Cohort\". Watching videos is recommended and office hours provided by previous students could provide helpful insights as well. In case the course was started since 2021, you might find additional materials on DTC\\'s YouTube channel at Playlists linked with {course yyyy}. Also, directly clicking the #syllabus link can take you straight to our syllabus for quick overviews and instructions about accessing homeworks.\\n\\nWe also aim to accommodate all learning styles in our courses by providing resources covering mathematical concepts required if they\\'re needed: links provided above could help enhance your understanding, while community support is available around the clock via Mélanie Fouesnard (ML Zoomcamp 1.8 - Linear Algebra Refresher).\\n\\nLastly, we provide continuous access to materials post-course completion allowing for self-paced learning or preparation for future courses: you\\'re free to follow homeworks and start working on your final capstone project at any time after course ends as per our guidel0in (http://mlzoomcamp.com/#syllabus).\\n\\nPlease feel welcomed in joining the class, even if it is late! We’ll always be here to support you through this exciting learning journey and we\\'re glad that ML Zoomcamp can cater for students of varying background including those unfamiliar with math. Do not hesitate to reach out anytime you have questions or need assistance at yourZoomCamp@mlzoomcamp.com, our teaching team is dedicated in ensuring the best learning experience possible!'"
      ]
     },
     "execution_count": 68,
     "metadata": {},
     "output_type": "execute_result"
    }
   ],
   "source": [
    "rag(\"I just discovered the course. Can I still join it?\")"
   ]
  },
  {
   "cell_type": "code",
   "execution_count": 69,
   "id": "4a7bc227",
   "metadata": {},
   "outputs": [
    {
     "name": "stdout",
     "output_type": "stream",
     "text": [
      " As a course teaching assistant, I'd like to clarify that even though it seems most courses are not taking new students after they start and we recommend registering as soon as possible, there is flexibility in enrolling at the end of November for this particular course. If you decide to join nearer to or right until the final deadlines while focusing on completing two projects out of three required ones before submitting your assignments, it will still be eligible for a certificate upon completion as per our FAQ guidelines (http://mlzoomcamp.com/).\n",
      "\n",
      "To access course materials and get started: Go to the course page at http://mlzoomcamp.com/, scroll down from where you landed on top of recent activities, start going through available material there including cohort-specific content which can be found in our folders for respective years under \"Cohort\". Watching videos is recommended and office hours provided by previous students could provide helpful insights as well. In case the course was started since 2021, you might find additional materials on DTC's YouTube channel at Playlists linked with {course yyyy}. Also, directly clicking the #syllabus link can take you straight to our syllabus for quick overviews and instructions about accessing homeworks.\n",
      "\n",
      "We also aim to accommodate all learning styles in our courses by providing resources covering mathematical concepts required if they're needed: links provided above could help enhance your understanding, while community support is available around the clock via Mélanie Fouesnard (ML Zoomcamp 1.8 - Linear Algebra Refresher).\n",
      "\n",
      "Lastly, we provide continuous access to materials post-course completion allowing for self-paced learning or preparation for future courses: you're free to follow homeworks and start working on your final capstone project at any time after course ends as per our guidel0in (http://mlzoomcamp.com/#syllabus).\n",
      "\n",
      "Please feel welcomed in joining the class, even if it is late! We’ll always be here to support you through this exciting learning journey and we're glad that ML Zoomcamp can cater for students of varying background including those unfamiliar with math. Do not hesitate to reach out anytime you have questions or need assistance at yourZoomCamp@mlzoomcamp.com, our teaching team is dedicated in ensuring the best learning experience possible!\n"
     ]
    }
   ],
   "source": [
    "print(_)"
   ]
  }
 ],
 "metadata": {
  "kernelspec": {
   "display_name": "saturn (Python 3)",
   "language": "python",
   "name": "python3"
  },
  "language_info": {
   "codemirror_mode": {
    "name": "ipython",
    "version": 3
   },
   "file_extension": ".py",
   "mimetype": "text/x-python",
   "name": "python",
   "nbconvert_exporter": "python",
   "pygments_lexer": "ipython3",
   "version": "3.10.13"
  }
 },
 "nbformat": 4,
 "nbformat_minor": 5
}
