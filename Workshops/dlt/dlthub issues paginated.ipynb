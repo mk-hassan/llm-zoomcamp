{
 "cells": [
  {
   "cell_type": "code",
   "execution_count": 1,
   "metadata": {},
   "outputs": [],
   "source": [
    "import dlt\n",
    "import duckdb\n",
    "from dlt.sources.helpers import requests"
   ]
  },
  {
   "cell_type": "code",
   "execution_count": 4,
   "metadata": {},
   "outputs": [],
   "source": [
    "# generator function\n",
    "def loader():\n",
    "  url = (\n",
    "    \"https://api.github.com/repos/dlt-hub/dlt/issues\"\n",
    "    \"?per_page=100&sort=created&directions=desc&state=open\"\n",
    "  )\n",
    "\n",
    "  while True:\n",
    "    response = requests.get(url)\n",
    "    response.raise_for_status()\n",
    "    yield response.json()\n",
    "\n",
    "    if \"next\" not in response.links:\n",
    "      break\n",
    "    url = response.links[\"next\"][\"url\"]\n"
   ]
  },
  {
   "cell_type": "code",
   "execution_count": 3,
   "metadata": {},
   "outputs": [],
   "source": [
    "pipeline = dlt.pipeline(\n",
    "  pipeline_name='paginated-dlt-issues',\n",
    "  destination='duckdb',\n",
    "  dataset_name='dlt'\n",
    ")"
   ]
  },
  {
   "cell_type": "code",
   "execution_count": 5,
   "metadata": {},
   "outputs": [
    {
     "name": "stdout",
     "output_type": "stream",
     "text": [
      "Pipeline paginated-dlt-issues load step completed in 0.74 seconds\n",
      "1 load package(s) were loaded to destination duckdb and into dataset dlthub\n",
      "The duckdb destination used duckdb:////Users/Kamal/WorkSpace/llm-zoomcamp/Workshops/dlt/paginated-dlt-issues.duckdb location to store data\n",
      "Load package 1720974260.653474 is LOADED and contains no failed jobs\n"
     ]
    }
   ],
   "source": [
    "print(pipeline.run(loader, table_name='issue', write_disposition='replace'))"
   ]
  },
  {
   "cell_type": "code",
   "execution_count": 6,
   "metadata": {},
   "outputs": [
    {
     "name": "stdout",
     "output_type": "stream",
     "text": [
      "┌──────────────┐\n",
      "│ count_star() │\n",
      "│    int64     │\n",
      "├──────────────┤\n",
      "│          164 │\n",
      "└──────────────┘\n",
      "\n"
     ]
    }
   ],
   "source": [
    "db = duckdb.connect('./paginated-dlt-issues.duckdb')\n",
    "db.sql('select count(*) from dlthub.issue').show()  # open issues no. + pull requests \n",
    "db.close()"
   ]
  }
 ],
 "metadata": {
  "kernelspec": {
   "display_name": "llm-zoomcamp-G3LhTBjf",
   "language": "python",
   "name": "python3"
  },
  "language_info": {
   "codemirror_mode": {
    "name": "ipython",
    "version": 3
   },
   "file_extension": ".py",
   "mimetype": "text/x-python",
   "name": "python",
   "nbconvert_exporter": "python",
   "pygments_lexer": "ipython3",
   "version": "3.10.13"
  }
 },
 "nbformat": 4,
 "nbformat_minor": 2
}
