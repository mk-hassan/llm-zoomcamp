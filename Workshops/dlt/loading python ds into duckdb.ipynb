{
 "cells": [
  {
   "cell_type": "code",
   "execution_count": 5,
   "metadata": {},
   "outputs": [],
   "source": [
    "import dlt\n",
    "import duckdb"
   ]
  },
  {
   "cell_type": "code",
   "execution_count": 11,
   "metadata": {},
   "outputs": [
    {
     "name": "stdout",
     "output_type": "stream",
     "text": [
      "Pipeline loading_py_dics load step completed in 0.29 seconds\n",
      "1 load package(s) were loaded to destination duckdb and into dataset local_data\n",
      "The duckdb destination used duckdb:////workspaces/llm-zoomcamp/Workshops/dlt/loading_py_dics.duckdb location to store data\n",
      "Load package 1720833560.358737 is LOADED and contains no failed jobs\n"
     ]
    }
   ],
   "source": [
    "data = [{\"id\": 1, \"name\": \"Alice\"}, {\"id\": 2, \"name\": \"Bob\"}]\n",
    "\n",
    "# dataset_name => schema name\n",
    "pipeline = dlt.pipeline(pipeline_name=\"loading_py_dics\", destination=\"duckdb\", dataset_name=\"local_data\")\n",
    "\n",
    "load_info = pipeline.run(data, table_name=\"person\")\n",
    "\n",
    "print(load_info)"
   ]
  },
  {
   "cell_type": "code",
   "execution_count": 14,
   "metadata": {},
   "outputs": [
    {
     "data": {
      "text/plain": [
       "┌───────┬─────────┬────────────────────┬────────────────┐\n",
       "│  id   │  name   │    _dlt_load_id    │    _dlt_id     │\n",
       "│ int64 │ varchar │      varchar       │    varchar     │\n",
       "├───────┼─────────┼────────────────────┼────────────────┤\n",
       "│     1 │ Alice   │ 1720833510.1917872 │ +ou6u1qiU8//9w │\n",
       "│     2 │ Bob     │ 1720833510.1917872 │ kv2wp1uV8O/Ydw │\n",
       "│     1 │ Alice   │ 1720833560.358737  │ B1+vnqq7lNI10Q │\n",
       "│     2 │ Bob     │ 1720833560.358737  │ YwlliZHK1LnWeg │\n",
       "└───────┴─────────┴────────────────────┴────────────────┘"
      ]
     },
     "execution_count": 14,
     "metadata": {},
     "output_type": "execute_result"
    }
   ],
   "source": [
    "db = duckdb.connect(\"./loading_py_dics.duckdb\")\n",
    "db.sql(\"select * from local_data.person\")"
   ]
  },
  {
   "cell_type": "code",
   "execution_count": null,
   "metadata": {},
   "outputs": [],
   "source": []
  }
 ],
 "metadata": {
  "kernelspec": {
   "display_name": "llm-zoomcamp-B9pnCD16",
   "language": "python",
   "name": "python3"
  },
  "language_info": {
   "codemirror_mode": {
    "name": "ipython",
    "version": 3
   },
   "file_extension": ".py",
   "mimetype": "text/x-python",
   "name": "python",
   "nbconvert_exporter": "python",
   "pygments_lexer": "ipython3",
   "version": "3.10.13"
  }
 },
 "nbformat": 4,
 "nbformat_minor": 2
}
