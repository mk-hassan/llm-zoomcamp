{
 "cells": [
  {
   "cell_type": "code",
   "execution_count": 3,
   "metadata": {},
   "outputs": [],
   "source": [
    "import dlt\n",
    "from dlt.sources.helpers import requests\n",
    "\n",
    "# Create a dlt pipeline that will load\n",
    "# chess player data to the DuckDB destination\n",
    "pipeline = dlt.pipeline(\n",
    "    pipeline_name=\"chess_pipeline\", destination=\"duckdb\", dataset_name=\"player_data\"\n",
    ")\n",
    "# Grab some player data from Chess.com API\n",
    "data = []\n",
    "for player in [\"magnuscarlsen\", \"rpragchess\"]:\n",
    "    response = requests.get(f\"https://api.chess.com/pub/player/{player}\")\n",
    "    response.raise_for_status()\n",
    "    data.append(response.json())\n",
    "# Extract, normalize, and load the data\n",
    "load_info = pipeline.run(data, table_name=\"player\")"
   ]
  },
  {
   "cell_type": "code",
   "execution_count": 43,
   "metadata": {},
   "outputs": [
    {
     "data": {
      "text/plain": [
       "┌───────────────────────────┐\n",
       "│           name            │\n",
       "│          varchar          │\n",
       "├───────────────────────────┤\n",
       "│ Magnus Carlsen            │\n",
       "│ Praggnanandhaa Rameshbabu │\n",
       "└───────────────────────────┘"
      ]
     },
     "execution_count": 43,
     "metadata": {},
     "output_type": "execute_result"
    }
   ],
   "source": [
    "import duckdb\n",
    "db = duckdb.connect(\"./chess_pipeline.duckdb\")\n",
    "db.sql('select * from player_data.player;').name"
   ]
  }
 ],
 "metadata": {
  "kernelspec": {
   "display_name": "Python 3",
   "language": "python",
   "name": "python3"
  },
  "language_info": {
   "codemirror_mode": {
    "name": "ipython",
    "version": 3
   },
   "file_extension": ".py",
   "mimetype": "text/x-python",
   "name": "python",
   "nbconvert_exporter": "python",
   "pygments_lexer": "ipython3",
   "version": "3.10.13"
  }
 },
 "nbformat": 4,
 "nbformat_minor": 2
}
